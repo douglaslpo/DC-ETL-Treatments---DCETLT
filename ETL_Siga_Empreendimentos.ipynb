{
  "nbformat": 4,
  "nbformat_minor": 0,
  "metadata": {
    "colab": {
      "provenance": [],
      "gpuType": "T4",
      "authorship_tag": "ABX9TyM9ILa50RS0OaFoxJyf/xu/",
      "include_colab_link": true
    },
    "kernelspec": {
      "name": "python3",
      "display_name": "Python 3"
    },
    "language_info": {
      "name": "python"
    },
    "accelerator": "GPU"
  },
  "cells": [
    {
      "cell_type": "markdown",
      "metadata": {
        "id": "view-in-github",
        "colab_type": "text"
      },
      "source": [
        "<a href=\"https://colab.research.google.com/github/douglaslpo/DC-ETL-Treatments---DCETLT/blob/main/ETL_Siga_Empreendimentos.ipynb\" target=\"_parent\"><img src=\"https://colab.research.google.com/assets/colab-badge.svg\" alt=\"Open In Colab\"/></a>"
      ]
    },
    {
      "cell_type": "code",
      "execution_count": null,
      "metadata": {
        "colab": {
          "base_uri": "https://localhost:8080/"
        },
        "id": "372uq6GJEgY7",
        "outputId": "a763bb33-fba7-4788-fc9c-d5d3dfd31975"
      },
      "outputs": [
        {
          "output_type": "stream",
          "name": "stdout",
          "text": [
            "Progresso salvo até o índice 0\n",
            "Progresso salvo até o índice 1000\n",
            "Progresso salvo até o índice 2000\n",
            "Progresso salvo até o índice 3000\n",
            "Progresso salvo até o índice 4000\n",
            "Progresso salvo até o índice 5000\n",
            "Progresso salvo até o índice 6000\n",
            "Progresso salvo até o índice 7000\n",
            "Progresso salvo até o índice 8000\n",
            "Progresso salvo até o índice 9000\n",
            "Progresso salvo até o índice 10000\n",
            "Progresso salvo até o índice 11000\n"
          ]
        }
      ],
      "source": [
        "from geopy.geocoders import Nominatim\n",
        "import pandas as pd\n",
        "import time  # Importação da biblioteca time\n",
        "\n",
        "# Configurar o geolocalizador\n",
        "geolocator = Nominatim(user_agent=\"geoapi\")\n",
        "\n",
        "# Carregar o arquivo CSV\n",
        "arquivo_csv = 'siga-empreendimentos-geracao.csv'  # Substitua pelo nome do arquivo\n",
        "df = pd.read_csv(arquivo_csv, encoding='utf-8')\n",
        "\n",
        "# Filtrar as linhas que contêm \"100% para\"\n",
        "df['Percentual Participação'] = None  # Criar a nova coluna inicialmente vazia\n",
        "filtro = df['DscPropriRegimePariticipacao'].str.contains(\"100% para\", na=False)  # Substitua 'sua_coluna' pelo nome correto da coluna\n",
        "df.loc[filtro, 'Percentual Participação'] = '100%'\n",
        "\n",
        "# Remover \"100% para\" da coluna original\n",
        "df.loc[filtro, 'DscPropriRegimePariticipacao'] = df.loc[filtro, 'DscPropriRegimePariticipacao'].str.replace(\"100% para\", \"\", regex=False).str.strip()\n",
        "\n",
        "# Substituir vírgulas por pontos e converter as colunas para numérico\n",
        "df['NumCoordNEmpreendimento'] = df['NumCoordNEmpreendimento'].astype(str).str.replace(',', '.').astype(float)\n",
        "df['NumCoordEEmpreendimento'] = df['NumCoordEEmpreendimento'].astype(str).str.replace(',', '.').astype(float)\n",
        "\n",
        "# Função para buscar dados geográficos de múltiplas coordenadas\n",
        "def buscar_dados_geograficos(df):\n",
        "    for index, row in df.iterrows():\n",
        "        try:\n",
        "            lat, lon = row['NumCoordNEmpreendimento'], row['NumCoordEEmpreendimento']\n",
        "            location = geolocator.reverse((lat, lon), exactly_one=True, timeout=10)\n",
        "            if location and 'address' in location.raw:\n",
        "                address = location.raw['address']\n",
        "                municipio = address.get('city', address.get('town', address.get('village', 'Município não encontrado')))\n",
        "                estado = address.get('state', 'Estado não encontrada')\n",
        "            else:\n",
        "                municipio, estado = 'Município não encontrado', 'Estado não encontrada'\n",
        "\n",
        "            # Adicionar os valores ao DataFrame\n",
        "            df.at[index, 'MUNICIPIO'] = municipio\n",
        "            df.at[index, 'ESTADO'] = estado\n",
        "\n",
        "            # Pausa para evitar sobrecarga na API\n",
        "            time.sleep(1)\n",
        "\n",
        "            # Salvar progresso a cada 1000 registros processados\n",
        "            if index % 1000 == 0:\n",
        "                df.to_csv('municipios_parcial.csv', index=False, encoding='utf-8')\n",
        "                print(f\"Progresso salvo até o índice {index}\")\n",
        "        except Exception as e:\n",
        "            df.at[index, 'MUNICIPIO'] = f\"Erro: {e}\"\n",
        "            df.at[index, 'ESTADO'] = f\"Erro: {e}\"\n",
        "            print(f\"Erro ao processar índice {index}: {e}\")\n",
        "\n",
        "# Chamar a função para processar as coordenadas\n",
        "buscar_dados_geograficos(df)\n",
        "\n",
        "# Salvar o resultado final\n",
        "df.to_csv('municipios_uf_resultado.csv', index=False, encoding='utf-8')\n",
        "\n",
        "print(\"Processamento concluído. Resultado salvo como 'municipios_uf_resultado.csv'.\")\n"
      ]
    },
    {
      "cell_type": "code",
      "source": [],
      "metadata": {
        "id": "KJkwHJpUUWTY"
      },
      "execution_count": null,
      "outputs": []
    }
  ]
}